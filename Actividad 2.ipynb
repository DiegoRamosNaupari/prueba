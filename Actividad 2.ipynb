{
 "cells": [
  {
   "cell_type": "markdown",
   "id": "86f29fe5",
   "metadata": {},
   "source": [
    "# PRACTICA DIRIGIDA: reportes (markdown, latex) y ficheros en jupyter notebook\n",
    "\n",
    "1. Reproducir el siguiente texto lo mas fiel posible a lo mostrado\n",
    "\n",
    "## <span style=\"color:green;\"> DISEÑO COMPLETAMENTE AL AZAR</span>\n",
    "\n",
    "<span style=\"color:blue;\">*El diseño completamente al zar es una prueba basada en el analisis de varianza, en donde la varianza total se descompone en la \"varianza de los tratamientos\" y la \"varianza del error\".*</span>\n",
    "\n",
    "### Modelo Lineal Aditivo\n",
    "\n",
    "$$y_{ij} = u + t_{i} + E_{ij}$$\n",
    "\n",
    "### Analisis de Varianza\n",
    "\n",
    "| Fuente de Variacion        | GL           | SC  | CM | F|\n",
    "|:------------- |:-------------:| :-----:| :----: | :-----:|\n",
    "| Tratamientos      | t-1 |  SC(T) |  $$\\frac{SC(T)}{t-1}$$|  $$\\frac{CM(T)}{CME(E)}$$|\n",
    "| Error Exp.      | n-t      |    SC(E) |$$\\frac{SC(E)}{n-t}$$ | |\n",
    "| Total | n-p      |   SC(tot) | | |\n",
    "\n",
    "\n",
    "donde:\n",
    "\n",
    "$n = n_{1}+n_{2}+n_{3}+...+n_{t}$\n",
    "\n",
    "F_{col} = \n",
    "\n",
    "\n"
   ]
  },
  {
   "cell_type": "code",
   "execution_count": null,
   "id": "47733e0a",
   "metadata": {},
   "outputs": [],
   "source": []
  },
  {
   "cell_type": "code",
   "execution_count": null,
   "id": "9f5cbf31",
   "metadata": {},
   "outputs": [],
   "source": []
  }
 ],
 "metadata": {
  "kernelspec": {
   "display_name": "Python 3",
   "language": "python",
   "name": "python3"
  },
  "language_info": {
   "codemirror_mode": {
    "name": "ipython",
    "version": 3
   },
   "file_extension": ".py",
   "mimetype": "text/x-python",
   "name": "python",
   "nbconvert_exporter": "python",
   "pygments_lexer": "ipython3",
   "version": "3.8.8"
  }
 },
 "nbformat": 4,
 "nbformat_minor": 5
}
